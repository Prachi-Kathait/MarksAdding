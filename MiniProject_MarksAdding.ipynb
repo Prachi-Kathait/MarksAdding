{
 "cells": [
  {
   "cell_type": "markdown",
   "metadata": {
    "colab_type": "text",
    "id": "view-in-github"
   },
   "source": [
    "<a href=\"https://colab.research.google.com/github/kkamal2003/MiniProject_MarksAdding/blob/main/MiniProject_MarksAdding.ipynb\" target=\"_parent\"><img src=\"https://colab.research.google.com/assets/colab-badge.svg\" alt=\"Open In Colab\"/></a>"
   ]
  },
  {
   "cell_type": "markdown",
   "metadata": {
    "id": "D5bGSEV3UdCd"
   },
   "source": [
    "• Input file contain Roll numbers and marks.\n",
    "\n",
    "• Create output file that add all the marks"
   ]
  },
  {
   "cell_type": "code",
   "execution_count": 11,
   "metadata": {
    "colab": {
     "base_uri": "https://localhost:8080/"
    },
    "id": "z8e_iNvcRXSG",
    "outputId": "cfde3093-57ea-4df4-9d74-e3acc347ef1c"
   },
   "outputs": [
    {
     "data": {
      "text/plain": [
       "Roll Num\n",
       "102003001    3\n",
       "102003002    5\n",
       "102003017    5\n",
       "102003018    5\n",
       "102003029    5\n",
       "            ..\n",
       "102196010    4\n",
       "102197016    5\n",
       "102197018    4\n",
       "102197019    5\n",
       "102197021    5\n",
       "Name: Marks, Length: 400, dtype: int64"
      ]
     },
     "execution_count": 11,
     "metadata": {},
     "output_type": "execute_result"
    }
   ],
   "source": [
    "import pandas as pd\n",
    "df = pd.read_csv('Mini Project - Marks Adding.csv')\n",
    "df1 = df.groupby(['Roll Num'])['Marks'].sum()\n",
    "df1.to_csv(\"FINALMARKSFILE.csv\");\n",
    "df1"
   ]
  }
 ],
 "metadata": {
  "colab": {
   "authorship_tag": "ABX9TyNIFW0owkpa5fCVRgC8kDbu",
   "include_colab_link": true,
   "provenance": []
  },
  "kernelspec": {
   "display_name": "Python 3 (ipykernel)",
   "language": "python",
   "name": "python3"
  },
  "language_info": {
   "codemirror_mode": {
    "name": "ipython",
    "version": 3
   },
   "file_extension": ".py",
   "mimetype": "text/x-python",
   "name": "python",
   "nbconvert_exporter": "python",
   "pygments_lexer": "ipython3",
   "version": "3.9.13"
  }
 },
 "nbformat": 4,
 "nbformat_minor": 1
}
